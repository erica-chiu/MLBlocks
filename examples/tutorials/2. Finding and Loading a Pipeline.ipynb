{
 "cells": [
  {
   "cell_type": "markdown",
   "metadata": {},
   "source": [
    "# Finding and Loading a Pipeline\n",
    "\n",
    "In this short tutorial we will show you how to search for pipelines suitable to solve\n",
    "your prediction problem."
   ]
  },
  {
   "cell_type": "markdown",
   "metadata": {},
   "source": [
    "In order to find a suitable pipeline, the first thing we need is to identify\n",
    "the type of problem (data modality + task type) that we are facing.\n",
    "\n",
    "This is a full list of current data modalities and task types that we cover:\n",
    "\n",
    "| Problem Type                         | Data Modality | Task Type               |\n",
    "|:-------------------------------------|:--------------|:------------------------|\n",
    "| Single Table Classification          | single_table  | classification          |\n",
    "| Single Table Regression              | single_table  | regression              |\n",
    "| Single Table Collaborative Filtering | single_table  | collaborative_filtering |\n",
    "| Multi Table Classification           | multi_table   | classification          |\n",
    "| Multi Table Regression               | multi_table   | regression              |\n",
    "| Time Series Classification           | timeseries    | classification          |\n",
    "| Time Series Regression               | timeseries    | regression              |\n",
    "| Time Series Forecasting              | timeseries    | forecasting             |\n",
    "| Time Series Anomaly Detection        | timeseries    | anomaly_detection       |\n",
    "| Image Classification                 | image         | classification          |\n",
    "| Image Regression                     | image         | regression              |\n",
    "| Graph Link Prediction                | graph         | link_prediction         |\n",
    "| Graph Vertex Nomination              | graph         | vertex_nomination       |\n",
    "| Graph Community Detection            | graph         | community_detection     |\n",
    "| Graph Matching                       | graph         | graph_matching          |"
   ]
  },
  {
   "cell_type": "markdown",
   "metadata": {},
   "source": [
    "Once we have identified our data modality and task type we can use the\n",
    "`mlblocks.discovery.find_pipelines` function to find all the pipelines\n",
    "that support this particular problem type.\n",
    "\n",
    "For example, if we are looking for a pipeline to work on Image Classification\n",
    "we will do the following query."
   ]
  },
  {
   "cell_type": "code",
   "execution_count": 3,
   "metadata": {},
   "outputs": [
    {
     "data": {
      "text/plain": [
       "['image.classification.hog.random_forest',\n",
       " 'image.classification.hog.xgboost',\n",
       " 'image.classification.resnet50.xgboost']"
      ]
     },
     "execution_count": 3,
     "metadata": {},
     "output_type": "execute_result"
    }
   ],
   "source": [
    "from mlblocks.discovery import find_pipelines\n",
    "\n",
    "filters = {\n",
    "    'metadata.data_modality': 'image',\n",
    "    'metadata.task_type': 'classification',\n",
    "}\n",
    "\n",
    "find_pipelines(filters=filters)"
   ]
  },
  {
   "cell_type": "markdown",
   "metadata": {},
   "source": [
    "After finding and choosing a pipeline, we can load it as an `MLPipeline`\n",
    "by passing its name to the `MLPipeline`."
   ]
  },
  {
   "cell_type": "code",
   "execution_count": 4,
   "metadata": {},
   "outputs": [],
   "source": [
    "from mlblocks import MLPipeline\n",
    "\n",
    "pipeline = MLPipeline('image.classification.resnet50.xgboost')"
   ]
  }
 ],
 "metadata": {
  "kernelspec": {
   "display_name": "Python 3",
   "language": "python",
   "name": "python3"
  },
  "language_info": {
   "codemirror_mode": {
    "name": "ipython",
    "version": 3
   },
   "file_extension": ".py",
   "mimetype": "text/x-python",
   "name": "python",
   "nbconvert_exporter": "python",
   "pygments_lexer": "ipython3",
   "version": "3.6.8"
  }
 },
 "nbformat": 4,
 "nbformat_minor": 4
}
